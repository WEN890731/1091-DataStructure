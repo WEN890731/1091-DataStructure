{
 "cells": [
  {
   "cell_type": "code",
   "execution_count": 167,
   "metadata": {
    "ExecuteTime": {
     "end_time": "2020-10-04T08:50:49.375507Z",
     "start_time": "2020-10-04T08:50:49.370482Z"
    }
   },
   "outputs": [],
   "source": [
    "import numpy as np\n",
    "import numpy.random as random\n",
    "import time as t\n",
    "import math"
   ]
  },
  {
   "cell_type": "code",
   "execution_count": 168,
   "metadata": {
    "ExecuteTime": {
     "end_time": "2020-10-04T08:50:50.234176Z",
     "start_time": "2020-10-04T08:50:50.216982Z"
    }
   },
   "outputs": [],
   "source": [
    "#for i in range(10,12):\n",
    "#    randonum_array = np.append(randonum_array,random.choice(range(1000), 2**i))"
   ]
  },
  {
   "cell_type": "code",
   "execution_count": 169,
   "metadata": {
    "ExecuteTime": {
     "end_time": "2020-10-04T08:50:50.928337Z",
     "start_time": "2020-10-04T08:50:50.907438Z"
    }
   },
   "outputs": [],
   "source": [
    "#insertion sort\n",
    "def insertion_sort(collection: list) -> list:\n",
    "    \"\"\"A pure Python implementation of the insertion sort algorithm\n",
    "    :param collection: some mutable ordered collection with heterogeneous\n",
    "    comparable items inside\n",
    "    :return: the same collection ordered by ascending\n",
    "    Examples:\n",
    "    >>> insertion_sort([0, 5, 3, 2, 2])\n",
    "    [0, 2, 2, 3, 5]\n",
    "    >>> insertion_sort([])\n",
    "    []\n",
    "    >>> insertion_sort([-2, -5, -45])\n",
    "    [-45, -5, -2]\n",
    "    \"\"\"\n",
    "\n",
    "    for loop_index in range(1, len(collection)):\n",
    "        insertion_index = loop_index\n",
    "        while (\n",
    "            insertion_index > 0\n",
    "            and collection[insertion_index - 1] > collection[insertion_index]\n",
    "        ):\n",
    "            collection[insertion_index], collection[insertion_index - 1] = (\n",
    "                collection[insertion_index - 1],\n",
    "                collection[insertion_index],\n",
    "            )\n",
    "            insertion_index -= 1\n",
    "\n",
    "    return collection\n",
    "\n",
    "\n",
    "#if __name__ == \"__main__\":\n",
    "#     user_input = input(\"Enter numbers separated by a comma:\\n\").strip()\n",
    "#     unsorted = [int(item) for item in user_input.split(\",\")]\n",
    "#     print(f\"{insertion_sort(unsorted) = }\")"
   ]
  },
  {
   "cell_type": "code",
   "execution_count": 170,
   "metadata": {
    "ExecuteTime": {
     "end_time": "2020-10-04T08:50:52.050182Z",
     "start_time": "2020-10-04T08:50:52.021128Z"
    }
   },
   "outputs": [],
   "source": [
    "#merge sort\n",
    "def merge_sort(collection: list) -> list:\n",
    "    \"\"\"Pure implementation of the merge sort algorithm in Python\n",
    "    :param collection: some mutable ordered collection with heterogeneous\n",
    "    comparable items inside\n",
    "    :return: the same collection ordered by ascending\n",
    "    Examples:\n",
    "    >>> merge_sort([0, 5, 3, 2, 2])\n",
    "    [0, 2, 2, 3, 5]\n",
    "    >>> merge_sort([])\n",
    "    []\n",
    "    >>> merge_sort([-2, -5, -45])\n",
    "    [-45, -5, -2]\n",
    "    \"\"\"\n",
    "\n",
    "    def merge(left: list, right: list) -> list:\n",
    "        \"\"\"merge left and right\n",
    "        :param left: left collection\n",
    "        :param right: right collection\n",
    "        :return: merge result\n",
    "        \"\"\"\n",
    "\n",
    "        def _merge():\n",
    "            while left and right:\n",
    "                yield (left if left[0] <= right[0] else right).pop(0)\n",
    "            yield from left\n",
    "            yield from right\n",
    "\n",
    "        return list(_merge())\n",
    "\n",
    "    if len(collection) <= 1:\n",
    "        return collection\n",
    "    mid = len(collection) // 2\n",
    "    return merge(merge_sort(collection[:mid]), merge_sort(collection[mid:]))"
   ]
  },
  {
   "cell_type": "code",
   "execution_count": 171,
   "metadata": {
    "ExecuteTime": {
     "end_time": "2020-10-04T08:50:53.070859Z",
     "start_time": "2020-10-04T08:50:53.041319Z"
    }
   },
   "outputs": [],
   "source": [
    "#random quick sort\n",
    "from random import randint\n",
    "def quicksort(alist, start, end):\n",
    "\t'''This function calls the partition and then recurse itself using the index returned by partition'''\n",
    "\tif start < end:\n",
    "\t\tpIndex = partition(alist, start, end)\n",
    "\t\tquicksort(alist, start, pIndex-1)\n",
    "\t\tquicksort(alist, pIndex+1, end)\n",
    "\t\n",
    "\treturn alist\n",
    "\n",
    "def partition(alist, start, end):\n",
    "\t'''This function will devide the list in two halves wrt pivot'''\n",
    "\t'''This will return the index of pivot after deviding'''\n",
    "\tpivot = randint(start, end)\n",
    "\ttemp = alist[end]\n",
    "\talist[end] = alist[pivot]\n",
    "\talist[pivot] = temp\n",
    "\tpIndex = start\n",
    "\t\n",
    "\tfor i in range(start, end):\n",
    "\t\tif alist[i] <= alist[end]:\n",
    "\t\t\ttemp = alist[i]\n",
    "\t\t\talist[i] = alist[pIndex]\n",
    "\t\t\talist[pIndex] = temp\n",
    "\t\t\tpIndex += 1\n",
    "\ttemp1 = alist[end]\n",
    "\talist[end] = alist[pIndex]\n",
    "\talist[pIndex] = temp1\n",
    "\t\n",
    "\treturn pIndex"
   ]
  },
  {
   "cell_type": "code",
   "execution_count": 172,
   "metadata": {
    "ExecuteTime": {
     "end_time": "2020-10-04T08:50:55.058673Z",
     "start_time": "2020-10-04T08:50:55.017453Z"
    }
   },
   "outputs": [],
   "source": [
    "#counting sort\n",
    "def counting_sort(collection):\n",
    "    \"\"\"Pure implementation of counting sort algorithm in Python\n",
    "    :param collection: some mutable ordered collection with heterogeneous\n",
    "    comparable items inside\n",
    "    :return: the same collection ordered by ascending\n",
    "    Examples:\n",
    "    >>> counting_sort([0, 5, 3, 2, 2])\n",
    "    [0, 2, 2, 3, 5]\n",
    "    >>> counting_sort([])\n",
    "    []\n",
    "    >>> counting_sort([-2, -5, -45])\n",
    "    [-45, -5, -2]\n",
    "    \"\"\"\n",
    "    # if the collection is empty, returns empty\n",
    "    if collection == []:\n",
    "        return []\n",
    "\n",
    "    # get some information about the collection\n",
    "    coll_len = len(collection)\n",
    "    coll_max = max(collection)\n",
    "    coll_min = min(collection)\n",
    "\n",
    "    # create the counting array\n",
    "    counting_arr_length = coll_max + 1 - coll_min\n",
    "    counting_arr = [0] * counting_arr_length\n",
    "\n",
    "    # count how much a number appears in the collection\n",
    "    for number in collection:\n",
    "        counting_arr[number - coll_min] += 1\n",
    "\n",
    "    # sum each position with it's predecessors. now, counting_arr[i] tells\n",
    "    # us how many elements <= i has in the collection\n",
    "    for i in range(1, counting_arr_length):\n",
    "        counting_arr[i] = counting_arr[i] + counting_arr[i - 1]\n",
    "\n",
    "    # create the output collection\n",
    "    ordered = [0] * coll_len\n",
    "\n",
    "    # place the elements in the output, respecting the original order (stable\n",
    "    # sort) from end to begin, updating counting_arr\n",
    "    for i in reversed(range(0, coll_len)):\n",
    "        ordered[counting_arr[collection[i] - coll_min] - 1] = collection[i]\n",
    "        counting_arr[collection[i] - coll_min] -= 1\n",
    "\n",
    "    return ordered\n",
    "\n",
    "\n",
    "def counting_sort_string(string):\n",
    "    \"\"\"\n",
    "    >>> counting_sort_string(\"thisisthestring\")\n",
    "    'eghhiiinrsssttt'\n",
    "    \"\"\"\n",
    "    return \"\".join([chr(i) for i in counting_sort([ord(c) for c in string])])"
   ]
  },
  {
   "cell_type": "code",
   "execution_count": 173,
   "metadata": {
    "ExecuteTime": {
     "end_time": "2020-10-04T08:50:56.121178Z",
     "start_time": "2020-10-04T08:50:56.101803Z"
    }
   },
   "outputs": [],
   "source": [
    "#heap sort\n",
    "def heapify(unsorted, index, heap_size):\n",
    "    largest = index\n",
    "    left_index = 2 * index + 1\n",
    "    right_index = 2 * index + 2\n",
    "    if left_index < heap_size and unsorted[left_index] > unsorted[largest]:\n",
    "        largest = left_index\n",
    "\n",
    "    if right_index < heap_size and unsorted[right_index] > unsorted[largest]:\n",
    "        largest = right_index\n",
    "\n",
    "    if largest != index:\n",
    "        unsorted[largest], unsorted[index] = unsorted[index], unsorted[largest]\n",
    "        heapify(unsorted, largest, heap_size)\n",
    "\n",
    "\n",
    "def heap_sort(unsorted):\n",
    "    \"\"\"\n",
    "    Pure implementation of the heap sort algorithm in Python\n",
    "    :param collection: some mutable ordered collection with heterogeneous\n",
    "    comparable items inside\n",
    "    :return: the same collection ordered by ascending\n",
    "    Examples:\n",
    "    >>> heap_sort([0, 5, 3, 2, 2])\n",
    "    [0, 2, 2, 3, 5]\n",
    "    >>> heap_sort([])\n",
    "    []\n",
    "    >>> heap_sort([-2, -5, -45])\n",
    "    [-45, -5, -2]\n",
    "    \"\"\"\n",
    "    n = len(unsorted)\n",
    "    for i in range(n // 2 - 1, -1, -1):\n",
    "        heapify(unsorted, i, n)\n",
    "    for i in range(n - 1, 0, -1):\n",
    "        unsorted[0], unsorted[i] = unsorted[i], unsorted[0]\n",
    "        heapify(unsorted, 0, i)\n",
    "    return unsorted"
   ]
  },
  {
   "cell_type": "code",
   "execution_count": 180,
   "metadata": {
    "ExecuteTime": {
     "end_time": "2020-10-04T09:18:37.359933Z",
     "start_time": "2020-10-04T09:18:37.348512Z"
    }
   },
   "outputs": [],
   "source": [
    "def uniformRandomInputNum(size):\n",
    "    randon_array = np.array([])\n",
    "    randon_array = np.append(randon_array,random.choice(range(1, size+1), size, replace = False))\n",
    "    int_randonum = randon_array.astype(int)\n",
    "    return int_randonum"
   ]
  },
  {
   "cell_type": "code",
   "execution_count": 181,
   "metadata": {
    "ExecuteTime": {
     "end_time": "2020-10-04T09:18:38.114107Z",
     "start_time": "2020-10-04T09:18:38.089123Z"
    }
   },
   "outputs": [],
   "source": [
    "def almostSorteInputNum(size, choiceNum):\n",
    "    input_data = np.array(range(1, size+1))\n",
    "    change_num = np.array([])\n",
    "    change_num = np.append(change_num, random.choice(input_data, choiceNum, replace = False))\n",
    "    change = change_num-1\n",
    "    for num in change.astype(int):\n",
    "         input_data[num-1] = random.choice(range(1, 101), 1, replace = False)\n",
    "    return input_data"
   ]
  },
  {
   "cell_type": "markdown",
   "metadata": {},
   "source": [
    "# When 2^10"
   ]
  },
  {
   "cell_type": "code",
   "execution_count": 198,
   "metadata": {
    "ExecuteTime": {
     "end_time": "2020-10-04T09:30:26.414262Z",
     "start_time": "2020-10-04T09:30:26.400769Z"
    }
   },
   "outputs": [],
   "source": [
    "insertion_sort_mean = np.array([])\n",
    "unitime_data = np.array([])\n",
    "randonum_array = np.array([])"
   ]
  },
  {
   "cell_type": "code",
   "execution_count": 199,
   "metadata": {
    "ExecuteTime": {
     "end_time": "2020-10-04T09:31:21.220422Z",
     "start_time": "2020-10-04T09:30:41.027422Z"
    },
    "code_folding": []
   },
   "outputs": [],
   "source": [
    "#Uniformly Randomly\n",
    "for j in range(10, 21):\n",
    "    for i in range(10):\n",
    "        tStart = t.process_time()\n",
    "        randonum_array = uniformRandomInputNum(1000)\n",
    "        insertion_sort(randonum_array)\n",
    "        tEnd = t.process_time()\n",
    "        run_time = round((tEnd - tStart), 4)\n",
    "        unitime_data = np.append(unitime_data, run_time)\n",
    "    insertion_sort_mean = np.append(insertion_sort_mean, round(unitime_data.mean(), 4))\n",
    "    unitime_data = np.array([])"
   ]
  },
  {
   "cell_type": "code",
   "execution_count": 200,
   "metadata": {
    "ExecuteTime": {
     "end_time": "2020-10-04T09:31:30.161826Z",
     "start_time": "2020-10-04T09:31:30.126400Z"
    }
   },
   "outputs": [
    {
     "data": {
      "text/plain": [
       "array([0.2243, 0.2369, 0.2661, 0.2693, 0.2764, 0.3407, 0.4316, 0.3792,\n",
       "       0.3529, 0.2851, 0.2702])"
      ]
     },
     "execution_count": 200,
     "metadata": {},
     "output_type": "execute_result"
    }
   ],
   "source": [
    "insertion_sort_mean"
   ]
  },
  {
   "cell_type": "code",
   "execution_count": null,
   "metadata": {},
   "outputs": [],
   "source": [
    "tStart = t.process_time()\n",
    "randonum_array = uniformRandomInputNum(1000)\n",
    "insertion_sort(randonum_array)\n",
    "tEnd = t.process_time()\n",
    "run_time = round((tEnd - tStart), 4)\n",
    "unitime_data = np.append(unitime_data, run_time)\n",
    "insertion_sort_mean = np.append(insertion_sort_mean, round(unitime_data.mean(), 4))\n",
    "unitime_data = np.array([])"
   ]
  },
  {
   "cell_type": "code",
   "execution_count": null,
   "metadata": {},
   "outputs": [],
   "source": []
  },
  {
   "cell_type": "code",
   "execution_count": null,
   "metadata": {},
   "outputs": [],
   "source": [
    "a_insertion_sort_mean = np.array([])\n",
    "almost_time_data = np.array([])"
   ]
  },
  {
   "cell_type": "code",
   "execution_count": 148,
   "metadata": {
    "ExecuteTime": {
     "end_time": "2020-10-03T11:48:55.073805Z",
     "start_time": "2020-10-03T11:48:55.060043Z"
    }
   },
   "outputs": [
    {
     "data": {
      "text/plain": [
       "2.52413"
      ]
     },
     "execution_count": 148,
     "metadata": {},
     "output_type": "execute_result"
    }
   ],
   "source": [
    "#Almost Sorted\n",
    "for j in range(10, 12):\n",
    "    for i in range(10):\n",
    "        input1 = almostSorteInputNum(2**j, 100)\n",
    "        insertion_sort(input1)\n",
    "        "
   ]
  },
  {
   "cell_type": "code",
   "execution_count": null,
   "metadata": {},
   "outputs": [],
   "source": [
    "np.append(insertion_sort_mean, unitime_data.mean())"
   ]
  },
  {
   "cell_type": "code",
   "execution_count": null,
   "metadata": {},
   "outputs": [],
   "source": []
  },
  {
   "cell_type": "code",
   "execution_count": null,
   "metadata": {},
   "outputs": [],
   "source": []
  },
  {
   "cell_type": "code",
   "execution_count": null,
   "metadata": {},
   "outputs": [],
   "source": []
  },
  {
   "cell_type": "code",
   "execution_count": null,
   "metadata": {},
   "outputs": [],
   "source": []
  },
  {
   "cell_type": "code",
   "execution_count": null,
   "metadata": {},
   "outputs": [],
   "source": []
  }
 ],
 "metadata": {
  "kernelspec": {
   "display_name": "Python 3",
   "language": "python",
   "name": "python3"
  },
  "toc": {
   "base_numbering": 1,
   "nav_menu": {},
   "number_sections": true,
   "sideBar": true,
   "skip_h1_title": false,
   "title_cell": "Table of Contents",
   "title_sidebar": "Contents",
   "toc_cell": false,
   "toc_position": {},
   "toc_section_display": true,
   "toc_window_display": true
  },
  "varInspector": {
   "cols": {
    "lenName": 16,
    "lenType": 16,
    "lenVar": 40
   },
   "kernels_config": {
    "python": {
     "delete_cmd_postfix": "",
     "delete_cmd_prefix": "del ",
     "library": "var_list.py",
     "varRefreshCmd": "print(var_dic_list())"
    },
    "r": {
     "delete_cmd_postfix": ") ",
     "delete_cmd_prefix": "rm(",
     "library": "var_list.r",
     "varRefreshCmd": "cat(var_dic_list()) "
    }
   },
   "position": {
    "height": "385px",
    "left": "6px",
    "right": "20px",
    "top": "226px",
    "width": "257px"
   },
   "types_to_exclude": [
    "module",
    "function",
    "builtin_function_or_method",
    "instance",
    "_Feature"
   ],
   "window_display": true
  }
 },
 "nbformat": 4,
 "nbformat_minor": 4
}
